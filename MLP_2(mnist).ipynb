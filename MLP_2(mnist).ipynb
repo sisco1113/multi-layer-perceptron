{
  "cells": [
    {
      "cell_type": "markdown",
      "metadata": {
        "id": "view-in-github",
        "colab_type": "text"
      },
      "source": [
        "<a href=\"https://colab.research.google.com/github/sisco1113/multi-layer-perceptron-deep-learning-AI-algorithm-/blob/main/MLP_2(mnist).ipynb\" target=\"_parent\"><img src=\"https://colab.research.google.com/assets/colab-badge.svg\" alt=\"Open In Colab\"/></a>"
      ]
    },
    {
      "cell_type": "code",
      "source": [
        "import numpy\n",
        "from keras.models import Sequential\n",
        "from keras.layers import Dense\n",
        "from keras.layers import Dropout\n",
        "#from keras.utils import np_utils\n",
        "#np_utils has been removed from the keras.utils package\n",
        "from keras.utils import to_categorical\n",
        "\n",
        "from keras.datasets import mnist\n",
        "import matplotlib.pyplot as plt\n",
        "\n",
        "# load (downloaded if needed) the MNIST dataset\n",
        "(X_train, Y_train), (X_test, Y_test) = mnist.load_data()\n",
        "#describe(X_train, Y_train), (X_test, Y_test)\n",
        "print(\"Train dataset:\", X_train.shape)\n",
        "print(\"Train dataset shape:\", Y_train.shape)\n",
        "print(\"Train dataset labels:\", numpy.unique(Y_train))\n",
        "\n",
        "print(\"\\n\")\n",
        "\n",
        "print(\"Test dataset:\", X_test.shape)\n",
        "print(\"Test dataset shape:\", Y_test.shape)\n",
        "print(\"Test dataset labels:\", numpy.unique(Y_test))"
      ],
      "metadata": {
        "colab": {
          "base_uri": "https://localhost:8080/"
        },
        "id": "bp7Wva_F_Lvw",
        "outputId": "02d84908-8e4d-4423-90ce-b92774b9bc34"
      },
      "execution_count": 1,
      "outputs": [
        {
          "output_type": "stream",
          "name": "stdout",
          "text": [
            "Downloading data from https://storage.googleapis.com/tensorflow/tf-keras-datasets/mnist.npz\n",
            "11490434/11490434 [==============================] - 0s 0us/step\n",
            "Train dataset: (60000, 28, 28)\n",
            "Train dataset shape: (60000,)\n",
            "Train dataset labels: [0 1 2 3 4 5 6 7 8 9]\n",
            "\n",
            "\n",
            "Test dataset: (10000, 28, 28)\n",
            "Test dataset shape: (10000,)\n",
            "Test dataset labels: [0 1 2 3 4 5 6 7 8 9]\n"
          ]
        }
      ]
    },
    {
      "cell_type": "code",
      "source": [
        "# flatten 28*28 images to a 784 vector for each image\n",
        "num_pixels = X_train.shape[1] * X_train.shape[2]\n",
        "X_train = X_train.reshape(X_train.shape[0], num_pixels).astype('float32')\n",
        "X_test = X_test.reshape(X_test.shape[0], num_pixels).astype('float32')\n",
        "\n",
        "# normalize inputs from 0-255 to 0-1\n",
        "X_train = X_train / 255.\n",
        "X_test = X_test / 255.\n",
        "\n",
        "# one hot encode outputs\n",
        "Y_train = to_categorical(Y_train)\n",
        "Y_test = to_categorical(Y_test)\n",
        "num_classes = Y_test.shape[1]\n",
        "\n",
        "# define baseline model\n",
        "# create model\n",
        "model = Sequential()\n",
        "model.add(Dense(num_pixels, input_dim=num_pixels, activation='relu'))\n",
        "model.add(Dense(num_classes, activation='softmax'))\n",
        "\n",
        "#show model summary\n",
        "model.summary()"
      ],
      "metadata": {
        "colab": {
          "base_uri": "https://localhost:8080/"
        },
        "id": "w6Tl59nmENTa",
        "outputId": "73016793-75bb-4f00-e228-be0a3cdc1273"
      },
      "execution_count": 2,
      "outputs": [
        {
          "output_type": "stream",
          "name": "stdout",
          "text": [
            "Model: \"sequential\"\n",
            "_________________________________________________________________\n",
            " Layer (type)                Output Shape              Param #   \n",
            "=================================================================\n",
            " dense (Dense)               (None, 784)               615440    \n",
            "                                                                 \n",
            " dense_1 (Dense)             (None, 10)                7850      \n",
            "                                                                 \n",
            "=================================================================\n",
            "Total params: 623290 (2.38 MB)\n",
            "Trainable params: 623290 (2.38 MB)\n",
            "Non-trainable params: 0 (0.00 Byte)\n",
            "_________________________________________________________________\n"
          ]
        }
      ]
    },
    {
      "cell_type": "code",
      "execution_count": 3,
      "metadata": {
        "id": "pztcxhY0l5FO",
        "colab": {
          "base_uri": "https://localhost:8080/"
        },
        "outputId": "7b02df10-499c-4177-e3b3-de205ea83f39"
      },
      "outputs": [
        {
          "output_type": "stream",
          "name": "stdout",
          "text": [
            "Epoch 1/10\n",
            "300/300 - 15s - loss: 0.2767 - accuracy: 0.9208 - val_loss: 0.1383 - val_accuracy: 0.9576 - 15s/epoch - 51ms/step\n",
            "Epoch 2/10\n",
            "300/300 - 8s - loss: 0.1094 - accuracy: 0.9686 - val_loss: 0.0954 - val_accuracy: 0.9724 - 8s/epoch - 25ms/step\n",
            "Epoch 3/10\n",
            "300/300 - 6s - loss: 0.0713 - accuracy: 0.9795 - val_loss: 0.0756 - val_accuracy: 0.9774 - 6s/epoch - 21ms/step\n",
            "Epoch 4/10\n",
            "300/300 - 5s - loss: 0.0503 - accuracy: 0.9848 - val_loss: 0.0659 - val_accuracy: 0.9789 - 5s/epoch - 18ms/step\n",
            "Epoch 5/10\n",
            "300/300 - 7s - loss: 0.0370 - accuracy: 0.9894 - val_loss: 0.0655 - val_accuracy: 0.9794 - 7s/epoch - 22ms/step\n",
            "Epoch 6/10\n",
            "300/300 - 6s - loss: 0.0263 - accuracy: 0.9929 - val_loss: 0.0632 - val_accuracy: 0.9792 - 6s/epoch - 19ms/step\n",
            "Epoch 7/10\n",
            "300/300 - 7s - loss: 0.0204 - accuracy: 0.9948 - val_loss: 0.0612 - val_accuracy: 0.9822 - 7s/epoch - 22ms/step\n",
            "Epoch 8/10\n",
            "300/300 - 6s - loss: 0.0146 - accuracy: 0.9966 - val_loss: 0.0599 - val_accuracy: 0.9817 - 6s/epoch - 18ms/step\n",
            "Epoch 9/10\n",
            "300/300 - 7s - loss: 0.0107 - accuracy: 0.9977 - val_loss: 0.0633 - val_accuracy: 0.9809 - 7s/epoch - 22ms/step\n",
            "Epoch 10/10\n",
            "300/300 - 6s - loss: 0.0086 - accuracy: 0.9983 - val_loss: 0.0613 - val_accuracy: 0.9808 - 6s/epoch - 19ms/step\n",
            "Baseline Error: 1.92%\n"
          ]
        }
      ],
      "source": [
        "# Compile model\n",
        "model.compile(loss='categorical_crossentropy', optimizer='adam', metrics=['accuracy'])\n",
        "\n",
        "# Fit the model\n",
        "# change epochs and batch_size later\n",
        "model.fit(X_train, Y_train, validation_data=(X_test, Y_test), epochs=10, batch_size=200, verbose=2)\n",
        "\n",
        "# Final evaluation of the model\n",
        "scores = model.evaluate(X_test, Y_test, verbose=0)\n",
        "print(\"Baseline Error: %.2f%%\" % (100-scores[1]*100))\n"
      ]
    }
  ],
  "metadata": {
    "language_info": {
      "name": "python"
    },
    "colab": {
      "provenance": [],
      "include_colab_link": true
    },
    "kernelspec": {
      "name": "python3",
      "display_name": "Python 3"
    }
  },
  "nbformat": 4,
  "nbformat_minor": 0
}